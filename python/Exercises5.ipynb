{
 "cells": [
  {
   "cell_type": "markdown",
   "metadata": {},
   "source": [
    "### **Exercise1:**\n",
    "\n",
    "Create a dictionary out of two given lists. Then delete the elements from the second list."
   ]
  },
  {
   "cell_type": "code",
   "execution_count": 9,
   "metadata": {},
   "outputs": [
    {
     "name": "stdout",
     "output_type": "stream",
     "text": [
      "['a', 'b', 'c']\n",
      "[1, 2, 3]\n",
      "{'a': 1, 'b': 2, 'c': 3}\n",
      "[]\n"
     ]
    }
   ],
   "source": [
    "l1 = list()\n",
    "l2 = list()\n",
    "l1.append(\"a\")\n",
    "l1.append(\"b\")\n",
    "l1.append(\"c\")\n",
    "l2.append(1)\n",
    "l2.append(2)\n",
    "l2.append(3)\n",
    "print(l1)\n",
    "print(l2)\n",
    "d = {k: v for k, v in zip(l1, l2)}\n",
    "print(d)\n",
    "l2.clear()\n",
    "print(l2)"
   ]
  },
  {
   "cell_type": "markdown",
   "metadata": {},
   "source": [
    "### **Exercise2:**\n",
    "\n",
    "Use the code from the old C++ bisection exercise (lecture 1) to create a C library and call it from python."
   ]
  },
  {
   "cell_type": "markdown",
   "metadata": {},
   "source": [
    "### **Exercise3:**\n",
    "\n",
    "Modify the jacobi solution from the extra exercises to return a pointer to an array with the solution. Then call all that from python. "
   ]
  },
  {
   "cell_type": "code",
   "execution_count": null,
   "metadata": {},
   "outputs": [],
   "source": []
  }
 ],
 "metadata": {
  "kernelspec": {
   "display_name": "Python 3 (ipykernel)",
   "language": "python",
   "name": "python3"
  },
  "language_info": {
   "codemirror_mode": {
    "name": "ipython",
    "version": 3
   },
   "file_extension": ".py",
   "mimetype": "text/x-python",
   "name": "python",
   "nbconvert_exporter": "python",
   "pygments_lexer": "ipython3",
   "version": "3.9.15"
  }
 },
 "nbformat": 4,
 "nbformat_minor": 4
}
