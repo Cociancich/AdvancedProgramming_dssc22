{
 "cells": [
  {
   "cell_type": "markdown",
   "id": "d11517f7-d25e-4ddd-8cf5-95cf809e8bb5",
   "metadata": {},
   "source": [
    "### **Exercise1:**\n",
    "\n",
    "Create your own class for complex numbers, just like you would in c++. Make sure all the arithmetic operations work (yes, this is another useless exercise to play with the syntax)."
   ]
  },
  {
   "cell_type": "code",
   "execution_count": 11,
   "id": "ac7997de-befc-4ae7-8229-14ee15e9f34d",
   "metadata": {},
   "outputs": [],
   "source": [
    "class Complex:\n",
    "    def __init__(self,r,i):\n",
    "        self.r=r\n",
    "        self.i=i    \n",
    "    def __add__(self,other):   \n",
    "        r=self.r+other.r\n",
    "        i=self.i+other.i\n",
    "        return Complex(r,i)\n",
    "    def __sub__(self,other):   \n",
    "        r=self.r-other.r\n",
    "        i=self.i-other.i\n",
    "        return Complex(r,i)\n",
    "    def __mul__(self,other):   \n",
    "        r=self.r*other.r - self.i*other.i\n",
    "        i=self.r*other.i + self.i*other.r\n",
    "        return Complex(r,i)\n",
    "    \n",
    "    def __str__(self):\n",
    "        return \"{0} i{1}\".format(self.r, self.i) #\"converts\" class to a string"
   ]
  },
  {
   "cell_type": "code",
   "execution_count": 13,
   "id": "f32be1d5-015e-40d4-b38a-76ad56a957f4",
   "metadata": {},
   "outputs": [
    {
     "name": "stdout",
     "output_type": "stream",
     "text": [
      "3 i5\n",
      "-1 i1\n",
      "-4 i8\n"
     ]
    }
   ],
   "source": [
    "var1=Complex(1,3)\n",
    "var2=Complex(2,2)\n",
    "print(var1+var2)\n",
    "print(var1-var2)\n",
    "print(var1*var2)"
   ]
  },
  {
   "cell_type": "markdown",
   "id": "ea29074e-7dd7-48c6-bfd9-03860cffc268",
   "metadata": {},
   "source": [
    "### **Exercise2:**\n",
    "\n",
    "Rewrite your jacobi solution from the previous exerxise set with classes (you can follow the same layout as the c++ solution)."
   ]
  },
  {
   "cell_type": "code",
   "execution_count": 23,
   "id": "f11d53f8-01aa-4a39-8611-3a17be526b28",
   "metadata": {},
   "outputs": [
    {
     "name": "stdout",
     "output_type": "stream",
     "text": [
      "<class 'numpy.ndarray'>\n"
     ]
    },
    {
     "data": {
      "image/png": "[encoded data removed]",
      "text/plain": [
       "<Figure size 640x480 with 1 Axes>"
      ]
     },
     "metadata": {},
     "output_type": "display_data"
    }
   ],
   "source": [
    "import numpy as np\n",
    "import matplotlib.pyplot as plt\n",
    "size = 9\n",
    "times = 10\n",
    "arr_center = np.full((size-2,size-2), 0.5)\n",
    "arr_upper = np.zeros((1,size-2), dtype='int')\n",
    "arr_right = np.zeros((size-1,1), dtype='int')\n",
    "arr_lower = np.linspace(100,0,size).reshape(1, size)\n",
    "arr_left= np.linspace(0,100,size)\n",
    "arr = np.concatenate([arr_upper,arr_center])\n",
    "arr = np.concatenate([arr,arr_right],axis=1)\n",
    "arr = np.concatenate([arr_left[:-1].reshape(size-1, 1),arr],axis=1)\n",
    "arr = np.concatenate([arr,arr_lower])\n",
    "#plt.imshow(arr)\n",
    "arr_new = arr.copy()\n",
    "\n",
    "for t in range (times):\n",
    "    for i in range (size):\n",
    "        for j in range (size):\n",
    "            if i > 0 and j > 0 and i < size-1 and j < size-1:\n",
    "                arr_new[i][j] = 0.25*(arr[i-1][j] + arr[i][j-1] + arr[i+1][j]+ arr[i][j+1])\n",
    "    arr = arr_new\n",
    "    plt.imshow(arr)\n",
    "print (type(arr))    \n",
    "\n"
   ]
  },
  {
   "cell_type": "code",
   "execution_count": 30,
   "id": "c1d0dd7b-8606-46b6-b9e7-1ba4a348c929",
   "metadata": {},
   "outputs": [],
   "source": [
    "import numpy as np\n",
    "import matplotlib.pyplot as plt\n",
    "class Mesh:\n",
    "    def __init__(self, size):\n",
    "        self.size = size\n",
    "        arr_center = np.full((size-2,size-2), 0.5)\n",
    "        arr_upper = np.zeros((1,size-2), dtype='int')\n",
    "        arr_right = np.zeros((size-1,1), dtype='int')\n",
    "        arr_lower = np.linspace(100,0,size).reshape(1, size)\n",
    "        arr_left= np.linspace(0,100,size)\n",
    "        arr = np.concatenate([arr_upper,arr_center])\n",
    "        arr = np.concatenate([arr,arr_right],axis=1)\n",
    "        arr = np.concatenate([arr_left[:-1].reshape(size-1, 1),arr],axis=1)\n",
    "        arr = np.concatenate([arr,arr_lower])\n",
    "        self.arr = arr\n",
    "    def __str__(self):\n",
    "        return \"{0} \".format(self.arr) #\"converts\" class to a string\n",
    "    def __getitem__(self, index):\n",
    "        \"\"\"Supports two-dimensional indexing \n",
    "        with [row][column].\"\"\"\n",
    "        return self.arr[index]\n",
    "class Solve:\n",
    "    def __init__(self, Mesh, times):\n",
    "        self.arr = Mesh\n",
    "        self.arr_new = Mesh\n",
    "        self.printable = np.zeros((Mesh.size, Mesh.size), dtype='float')\n",
    "        self.times = times\n",
    "        self.size = Mesh.size\n",
    "        #self.size = Mesh.size\n",
    "        #arr_new = arr.copy()\n",
    "    def solve(self):\n",
    "        for t in range (self.times):\n",
    "            for i in range (self.size):\n",
    "                for j in range (self.size):\n",
    "                    if i > 0 and j > 0 and i < self.size-1 and j < self.size-1:\n",
    "                        self.arr_new[i][j] = 0.25*(self.arr[i-1][j] + self.arr[i][j-1] + self.arr[i+1][j]+ self.arr[i][j+1])\n",
    "                    self.printable[i][j] = self.arr[i][j]\n",
    "            self.arr = self.arr_new            \n",
    "            plt.imshow(self.printable)"
   ]
  },
  {
   "cell_type": "code",
   "execution_count": 32,
   "id": "ade5af00-5086-46b8-b450-29f4e9dc96f6",
   "metadata": {},
   "outputs": [
    {
     "name": "stdout",
     "output_type": "stream",
     "text": [
      "[[  0.    0.    0.    0.    0.    0.    0.    0.    0. ]\n",
      " [ 12.5   0.5   0.5   0.5   0.5   0.5   0.5   0.5   0. ]\n",
      " [ 25.    0.5   0.5   0.5   0.5   0.5   0.5   0.5   0. ]\n",
      " [ 37.5   0.5   0.5   0.5   0.5   0.5   0.5   0.5   0. ]\n",
      " [ 50.    0.5   0.5   0.5   0.5   0.5   0.5   0.5   0. ]\n",
      " [ 62.5   0.5   0.5   0.5   0.5   0.5   0.5   0.5   0. ]\n",
      " [ 75.    0.5   0.5   0.5   0.5   0.5   0.5   0.5   0. ]\n",
      " [ 87.5   0.5   0.5   0.5   0.5   0.5   0.5   0.5   0. ]\n",
      " [100.   87.5  75.   62.5  50.   37.5  25.   12.5   0. ]] \n",
      "[[  0.    0.    0.    0.    0.    0.    0.    0.    0. ]\n",
      " [ 12.5   0.5   0.5   0.5   0.5   0.5   0.5   0.5   0. ]\n",
      " [ 25.    0.5   0.5   0.5   0.5   0.5   0.5   0.5   0. ]\n",
      " [ 37.5   0.5   0.5   0.5   0.5   0.5   0.5   0.5   0. ]\n",
      " [ 50.    0.5   0.5   0.5   0.5   0.5   0.5   0.5   0. ]\n",
      " [ 62.5   0.5   0.5   0.5   0.5   0.5   0.5   0.5   0. ]\n",
      " [ 75.    0.5   0.5   0.5   0.5   0.5   0.5   0.5   0. ]\n",
      " [ 87.5   0.5   0.5   0.5   0.5   0.5   0.5   0.5   0. ]\n",
      " [100.   87.5  75.   62.5  50.   37.5  25.   12.5   0. ]] \n"
     ]
    },
    {
     "data": {
      "image/png": "[encoded data removed]",
      "text/plain": [
       "<Figure size 640x480 with 1 Axes>"
      ]
     },
     "metadata": {},
     "output_type": "display_data"
    }
   ],
   "source": [
    "j = Mesh(9)\n",
    "print(j)\n",
    "#print(j.size)\n",
    "abc = Solve(j, 10)\n",
    "print(abc.arr_new)\n",
    "\n",
    "fff = abc.solve()\n",
    "#print(type(fff))"
   ]
  },
  {
   "cell_type": "markdown",
   "id": "a3f9dbca-8146-41ae-a859-792866cd4419",
   "metadata": {},
   "source": [
    "### **Exercise3:**\n",
    "\n",
    "Write a `cython` module with a function that solves the quadratic equation (you don't need to use classes here for now)"
   ]
  },
  {
   "cell_type": "code",
   "execution_count": 36,
   "id": "955edb62-3467-4224-8e76-fb22c07ad634",
   "metadata": {},
   "outputs": [],
   "source": [
    "%load_ext Cython"
   ]
  },
  {
   "cell_type": "code",
   "execution_count": 38,
   "id": "567f86a5-6881-4f06-9596-f784b494544a",
   "metadata": {},
   "outputs": [],
   "source": [
    "import cmath\n",
    "def quadratic(a,b,c):\n",
    "    delta = cmath.sqrt(b**2-4*a*c)\n",
    "    #print(delta)\n",
    "    x1 = (-b + delta)/(2*a)\n",
    "    x2 = (-b - delta)/(2*a)\n",
    "    return x1, x2"
   ]
  },
  {
   "cell_type": "code",
   "execution_count": 45,
   "id": "7d3f08ca-3061-41f6-a69b-a3bfdb824d2d",
   "metadata": {},
   "outputs": [],
   "source": [
    "%%cython\n",
    "import math\n",
    "def quadratic2(a,b,c):\n",
    "    cdef double delta = math.sqrt(b**2-4*a*c)\n",
    "    #print(delta)\n",
    "    cdef double x1 = (-b + delta)/(2*a)\n",
    "    cdef double x2 = (-b - delta)/(2*a)\n",
    "    return x1, x2"
   ]
  },
  {
   "cell_type": "code",
   "execution_count": 52,
   "id": "33e39a1b-fa82-4151-8ad0-2ddea1fa8b9c",
   "metadata": {},
   "outputs": [
    {
     "name": "stdout",
     "output_type": "stream",
     "text": [
      "(1.4142135623730951+0j)\n",
      "1.4142135623730951j\n"
     ]
    }
   ],
   "source": [
    "import cmath\n",
    "print(cmath.sqrt(2))\n",
    "print(cmath.sqrt(-2))"
   ]
  },
  {
   "cell_type": "code",
   "execution_count": 48,
   "id": "a8be4652-b29b-4d7f-8ed0-09b56ea2f0b7",
   "metadata": {},
   "outputs": [
    {
     "name": "stdout",
     "output_type": "stream",
     "text": [
      "1.08 µs ± 87 ns per loop (mean ± std. dev. of 7 runs, 1,000,000 loops each)\n"
     ]
    }
   ],
   "source": [
    "%%timeit \n",
    "quadratic(2,4,1)"
   ]
  },
  {
   "cell_type": "code",
   "execution_count": 53,
   "id": "ba833bea-06a7-4025-85fa-99653f1d6c1d",
   "metadata": {},
   "outputs": [
    {
     "name": "stdout",
     "output_type": "stream",
     "text": [
      "643 ns ± 42.7 ns per loop (mean ± std. dev. of 7 runs, 1,000,000 loops each)\n"
     ]
    }
   ],
   "source": [
    "%%timeit \n",
    "quadratic2(2,4,1)"
   ]
  },
  {
   "cell_type": "markdown",
   "id": "00f9ee84-b578-4187-936a-225ddaef1f74",
   "metadata": {},
   "source": [
    "### **Exercise4:**\n",
    "\n",
    "Use `pibind` to call the c++ code for jacobi (from the the extra_exercises solutions) "
   ]
  },
  {
   "cell_type": "code",
   "execution_count": null,
   "id": "06510615-d3b2-45e7-83c5-92f32ed88332",
   "metadata": {},
   "outputs": [],
   "source": []
  }
 ],
 "metadata": {
  "kernelspec": {
   "display_name": "Python 3 (ipykernel)",
   "language": "python",
   "name": "python3"
  },
  "language_info": {
   "codemirror_mode": {
    "name": "ipython",
    "version": 3
   },
   "file_extension": ".py",
   "mimetype": "text/x-python",
   "name": "python",
   "nbconvert_exporter": "python",
   "pygments_lexer": "ipython3",
   "version": "3.8.15"
  }
 },
 "nbformat": 4,
 "nbformat_minor": 5
}
